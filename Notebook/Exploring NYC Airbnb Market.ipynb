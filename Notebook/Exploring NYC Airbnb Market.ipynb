{
 "cells": [
  {
   "cell_type": "markdown",
   "id": "02356c14",
   "metadata": {},
   "source": [
    "## Importing the Data\n",
    "<p><img src=\"https://assets.datacamp.com/production/project_1230/img/nyc.jpg\" alt=\"New York City skyline\" width=\"600px\">\n",
    "<br>\n",
    "Getting a look at the NYC Airbnb market by combining data from multiple file types like <code>.csv</code> and <code>.xlsx</code>.</p>\n",
    "<p><br><br>\n",
    "The datasets are:</p>\n",
    "<ol>\n",
    "<li><p><code>\"datasets/airbnb_price.csv\"</code></p></li>\n",
    "<li><p><code>\"datasets/airbnb_room_type.xlsx\"</code></p></li>\n",
    "<li><p><code>\"datasets/airbnb_last_review.csv\"</code></p></li>\n",
    "</ol>\n",
    "<p><br><br>\n",
    "Strat by converting untidy data into appropriate formats to analyze, and answer key questions including:</p>\n",
    "<ul>\n",
    "<li>What is the average price, per night, of an Airbnb listing in NYC? </li>\n",
    "<li>How does the average price of an Airbnb listing, per month, compare to the private rental market? </li>\n",
    "<li>How many adverts are for private rooms? </li>\n",
    "<li>How do Airbnb listing prices compare across the five NYC boroughs?</li>\n",
    "</ul>"
   ]
  },
  {
   "cell_type": "code",
   "execution_count": 16,
   "id": "df302d2d",
   "metadata": {},
   "outputs": [],
   "source": [
    "import pandas as pd\n",
    "import numpy as np\n",
    "import datetime as dt\n",
    "\n",
    "# Load airbnb_price.csv, prices\n",
    "prices = pd.read_csv('datasets/airbnb_price.csv')\n",
    "\n",
    "# Load airbnb_room_type.xlsx, xls\n",
    "xls = pd.ExcelFile(\"datasets/airbnb_room_type.xlsx\")\n",
    "\n",
    "# Parse the first sheet from xls, room_types\n",
    "room_types = xls.parse()\n",
    "\n",
    "# Load airbnb_last_review.csv, reviews\n",
    "reviews = pd.read_csv('datasets/airbnb_last_review.tsv', sep = '\\t')"
   ]
  },
  {
   "cell_type": "markdown",
   "id": "99ed8eba",
   "metadata": {},
   "source": [
    "Geitting Overview of each Dataset: prices, room_types and reivieiw."
   ]
  },
  {
   "cell_type": "code",
   "execution_count": 17,
   "id": "22b1774c",
   "metadata": {},
   "outputs": [
    {
     "data": {
      "text/html": [
       "<style type=\"text/css\">\n",
       "#T_73011_row0_col0 {\n",
       "  background-color: #fff7fb;\n",
       "  color: #000000;\n",
       "}\n",
       "#T_73011_row1_col0 {\n",
       "  background-color: #81aed2;\n",
       "  color: #f1f1f1;\n",
       "}\n",
       "#T_73011_row2_col0 {\n",
       "  background-color: #03466e;\n",
       "  color: #f1f1f1;\n",
       "}\n",
       "#T_73011_row3_col0 {\n",
       "  background-color: #023d60;\n",
       "  color: #f1f1f1;\n",
       "}\n",
       "#T_73011_row4_col0 {\n",
       "  background-color: #023858;\n",
       "  color: #f1f1f1;\n",
       "}\n",
       "</style>\n",
       "<table id=\"T_73011\">\n",
       "  <thead>\n",
       "    <tr>\n",
       "      <th class=\"blank level0\" >&nbsp;</th>\n",
       "      <th id=\"T_73011_level0_col0\" class=\"col_heading level0 col0\" >listing_id</th>\n",
       "      <th id=\"T_73011_level0_col1\" class=\"col_heading level0 col1\" >price</th>\n",
       "      <th id=\"T_73011_level0_col2\" class=\"col_heading level0 col2\" >nbhood_full</th>\n",
       "    </tr>\n",
       "  </thead>\n",
       "  <tbody>\n",
       "    <tr>\n",
       "      <th id=\"T_73011_level0_row0\" class=\"row_heading level0 row0\" >0</th>\n",
       "      <td id=\"T_73011_row0_col0\" class=\"data row0 col0\" >2595</td>\n",
       "      <td id=\"T_73011_row0_col1\" class=\"data row0 col1\" >225 dollars</td>\n",
       "      <td id=\"T_73011_row0_col2\" class=\"data row0 col2\" >Manhattan, Midtown</td>\n",
       "    </tr>\n",
       "    <tr>\n",
       "      <th id=\"T_73011_level0_row1\" class=\"row_heading level0 row1\" >1</th>\n",
       "      <td id=\"T_73011_row1_col0\" class=\"data row1 col0\" >3831</td>\n",
       "      <td id=\"T_73011_row1_col1\" class=\"data row1 col1\" >89 dollars</td>\n",
       "      <td id=\"T_73011_row1_col2\" class=\"data row1 col2\" >Brooklyn, Clinton Hill</td>\n",
       "    </tr>\n",
       "    <tr>\n",
       "      <th id=\"T_73011_level0_row2\" class=\"row_heading level0 row2\" >2</th>\n",
       "      <td id=\"T_73011_row2_col0\" class=\"data row2 col0\" >5099</td>\n",
       "      <td id=\"T_73011_row2_col1\" class=\"data row2 col1\" >200 dollars</td>\n",
       "      <td id=\"T_73011_row2_col2\" class=\"data row2 col2\" >Manhattan, Murray Hill</td>\n",
       "    </tr>\n",
       "    <tr>\n",
       "      <th id=\"T_73011_level0_row3\" class=\"row_heading level0 row3\" >3</th>\n",
       "      <td id=\"T_73011_row3_col0\" class=\"data row3 col0\" >5178</td>\n",
       "      <td id=\"T_73011_row3_col1\" class=\"data row3 col1\" >79 dollars</td>\n",
       "      <td id=\"T_73011_row3_col2\" class=\"data row3 col2\" >Manhattan, Hell's Kitchen</td>\n",
       "    </tr>\n",
       "    <tr>\n",
       "      <th id=\"T_73011_level0_row4\" class=\"row_heading level0 row4\" >4</th>\n",
       "      <td id=\"T_73011_row4_col0\" class=\"data row4 col0\" >5238</td>\n",
       "      <td id=\"T_73011_row4_col1\" class=\"data row4 col1\" >150 dollars</td>\n",
       "      <td id=\"T_73011_row4_col2\" class=\"data row4 col2\" >Manhattan, Chinatown</td>\n",
       "    </tr>\n",
       "  </tbody>\n",
       "</table>\n"
      ],
      "text/plain": [
       "<pandas.io.formats.style.Styler at 0x1c8ef4f7130>"
      ]
     },
     "execution_count": 17,
     "metadata": {},
     "output_type": "execute_result"
    }
   ],
   "source": [
    "prices.head().style.background_gradient()"
   ]
  },
  {
   "cell_type": "code",
   "execution_count": 18,
   "id": "ea596cb6",
   "metadata": {},
   "outputs": [
    {
     "data": {
      "text/html": [
       "<style type=\"text/css\">\n",
       "#T_b2ab1_row0_col0 {\n",
       "  background-color: #fff7fb;\n",
       "  color: #000000;\n",
       "}\n",
       "#T_b2ab1_row1_col0 {\n",
       "  background-color: #81aed2;\n",
       "  color: #f1f1f1;\n",
       "}\n",
       "#T_b2ab1_row2_col0 {\n",
       "  background-color: #03466e;\n",
       "  color: #f1f1f1;\n",
       "}\n",
       "#T_b2ab1_row3_col0 {\n",
       "  background-color: #023d60;\n",
       "  color: #f1f1f1;\n",
       "}\n",
       "#T_b2ab1_row4_col0 {\n",
       "  background-color: #023858;\n",
       "  color: #f1f1f1;\n",
       "}\n",
       "</style>\n",
       "<table id=\"T_b2ab1\">\n",
       "  <thead>\n",
       "    <tr>\n",
       "      <th class=\"blank level0\" >&nbsp;</th>\n",
       "      <th id=\"T_b2ab1_level0_col0\" class=\"col_heading level0 col0\" >listing_id</th>\n",
       "      <th id=\"T_b2ab1_level0_col1\" class=\"col_heading level0 col1\" >description</th>\n",
       "      <th id=\"T_b2ab1_level0_col2\" class=\"col_heading level0 col2\" >room_type</th>\n",
       "    </tr>\n",
       "  </thead>\n",
       "  <tbody>\n",
       "    <tr>\n",
       "      <th id=\"T_b2ab1_level0_row0\" class=\"row_heading level0 row0\" >0</th>\n",
       "      <td id=\"T_b2ab1_row0_col0\" class=\"data row0 col0\" >2595</td>\n",
       "      <td id=\"T_b2ab1_row0_col1\" class=\"data row0 col1\" >Skylit Midtown Castle</td>\n",
       "      <td id=\"T_b2ab1_row0_col2\" class=\"data row0 col2\" >Entire home/apt</td>\n",
       "    </tr>\n",
       "    <tr>\n",
       "      <th id=\"T_b2ab1_level0_row1\" class=\"row_heading level0 row1\" >1</th>\n",
       "      <td id=\"T_b2ab1_row1_col0\" class=\"data row1 col0\" >3831</td>\n",
       "      <td id=\"T_b2ab1_row1_col1\" class=\"data row1 col1\" >Cozy Entire Floor of Brownstone</td>\n",
       "      <td id=\"T_b2ab1_row1_col2\" class=\"data row1 col2\" >Entire home/apt</td>\n",
       "    </tr>\n",
       "    <tr>\n",
       "      <th id=\"T_b2ab1_level0_row2\" class=\"row_heading level0 row2\" >2</th>\n",
       "      <td id=\"T_b2ab1_row2_col0\" class=\"data row2 col0\" >5099</td>\n",
       "      <td id=\"T_b2ab1_row2_col1\" class=\"data row2 col1\" >Large Cozy 1 BR Apartment In Midtown East</td>\n",
       "      <td id=\"T_b2ab1_row2_col2\" class=\"data row2 col2\" >Entire home/apt</td>\n",
       "    </tr>\n",
       "    <tr>\n",
       "      <th id=\"T_b2ab1_level0_row3\" class=\"row_heading level0 row3\" >3</th>\n",
       "      <td id=\"T_b2ab1_row3_col0\" class=\"data row3 col0\" >5178</td>\n",
       "      <td id=\"T_b2ab1_row3_col1\" class=\"data row3 col1\" >Large Furnished Room Near B'way</td>\n",
       "      <td id=\"T_b2ab1_row3_col2\" class=\"data row3 col2\" >private room</td>\n",
       "    </tr>\n",
       "    <tr>\n",
       "      <th id=\"T_b2ab1_level0_row4\" class=\"row_heading level0 row4\" >4</th>\n",
       "      <td id=\"T_b2ab1_row4_col0\" class=\"data row4 col0\" >5238</td>\n",
       "      <td id=\"T_b2ab1_row4_col1\" class=\"data row4 col1\" >Cute & Cozy Lower East Side 1 bdrm</td>\n",
       "      <td id=\"T_b2ab1_row4_col2\" class=\"data row4 col2\" >Entire home/apt</td>\n",
       "    </tr>\n",
       "  </tbody>\n",
       "</table>\n"
      ],
      "text/plain": [
       "<pandas.io.formats.style.Styler at 0x1c8ef4fb190>"
      ]
     },
     "execution_count": 18,
     "metadata": {},
     "output_type": "execute_result"
    }
   ],
   "source": [
    "room_types.head().style.background_gradient()"
   ]
  },
  {
   "cell_type": "code",
   "execution_count": 19,
   "id": "29903e2f",
   "metadata": {},
   "outputs": [
    {
     "data": {
      "text/html": [
       "<style type=\"text/css\">\n",
       "#T_6553d_row0_col0 {\n",
       "  background-color: #fff7fb;\n",
       "  color: #000000;\n",
       "}\n",
       "#T_6553d_row1_col0 {\n",
       "  background-color: #81aed2;\n",
       "  color: #f1f1f1;\n",
       "}\n",
       "#T_6553d_row2_col0 {\n",
       "  background-color: #03466e;\n",
       "  color: #f1f1f1;\n",
       "}\n",
       "#T_6553d_row3_col0 {\n",
       "  background-color: #023d60;\n",
       "  color: #f1f1f1;\n",
       "}\n",
       "#T_6553d_row4_col0 {\n",
       "  background-color: #023858;\n",
       "  color: #f1f1f1;\n",
       "}\n",
       "</style>\n",
       "<table id=\"T_6553d\">\n",
       "  <thead>\n",
       "    <tr>\n",
       "      <th class=\"blank level0\" >&nbsp;</th>\n",
       "      <th id=\"T_6553d_level0_col0\" class=\"col_heading level0 col0\" >listing_id</th>\n",
       "      <th id=\"T_6553d_level0_col1\" class=\"col_heading level0 col1\" >host_name</th>\n",
       "      <th id=\"T_6553d_level0_col2\" class=\"col_heading level0 col2\" >last_review</th>\n",
       "    </tr>\n",
       "  </thead>\n",
       "  <tbody>\n",
       "    <tr>\n",
       "      <th id=\"T_6553d_level0_row0\" class=\"row_heading level0 row0\" >0</th>\n",
       "      <td id=\"T_6553d_row0_col0\" class=\"data row0 col0\" >2595</td>\n",
       "      <td id=\"T_6553d_row0_col1\" class=\"data row0 col1\" >Jennifer</td>\n",
       "      <td id=\"T_6553d_row0_col2\" class=\"data row0 col2\" >May 21 2019</td>\n",
       "    </tr>\n",
       "    <tr>\n",
       "      <th id=\"T_6553d_level0_row1\" class=\"row_heading level0 row1\" >1</th>\n",
       "      <td id=\"T_6553d_row1_col0\" class=\"data row1 col0\" >3831</td>\n",
       "      <td id=\"T_6553d_row1_col1\" class=\"data row1 col1\" >LisaRoxanne</td>\n",
       "      <td id=\"T_6553d_row1_col2\" class=\"data row1 col2\" >July 05 2019</td>\n",
       "    </tr>\n",
       "    <tr>\n",
       "      <th id=\"T_6553d_level0_row2\" class=\"row_heading level0 row2\" >2</th>\n",
       "      <td id=\"T_6553d_row2_col0\" class=\"data row2 col0\" >5099</td>\n",
       "      <td id=\"T_6553d_row2_col1\" class=\"data row2 col1\" >Chris</td>\n",
       "      <td id=\"T_6553d_row2_col2\" class=\"data row2 col2\" >June 22 2019</td>\n",
       "    </tr>\n",
       "    <tr>\n",
       "      <th id=\"T_6553d_level0_row3\" class=\"row_heading level0 row3\" >3</th>\n",
       "      <td id=\"T_6553d_row3_col0\" class=\"data row3 col0\" >5178</td>\n",
       "      <td id=\"T_6553d_row3_col1\" class=\"data row3 col1\" >Shunichi</td>\n",
       "      <td id=\"T_6553d_row3_col2\" class=\"data row3 col2\" >June 24 2019</td>\n",
       "    </tr>\n",
       "    <tr>\n",
       "      <th id=\"T_6553d_level0_row4\" class=\"row_heading level0 row4\" >4</th>\n",
       "      <td id=\"T_6553d_row4_col0\" class=\"data row4 col0\" >5238</td>\n",
       "      <td id=\"T_6553d_row4_col1\" class=\"data row4 col1\" >Ben</td>\n",
       "      <td id=\"T_6553d_row4_col2\" class=\"data row4 col2\" >June 09 2019</td>\n",
       "    </tr>\n",
       "  </tbody>\n",
       "</table>\n"
      ],
      "text/plain": [
       "<pandas.io.formats.style.Styler at 0x1c8eef79d60>"
      ]
     },
     "execution_count": 19,
     "metadata": {},
     "output_type": "execute_result"
    }
   ],
   "source": [
    "reviews.head().style.background_gradient()"
   ]
  },
  {
   "cell_type": "markdown",
   "id": "00f5bddd",
   "metadata": {},
   "source": [
    "## Cleaning the price column\n",
    "<p>Now the <code>DataFrames</code> have been loaded, the first step is to calculate the average price per listing by <code>room_type</code>. </p>\n",
    "<p>You may have noticed that the <code>price</code> column in the <code>prices</code> DataFrame currently states each value as a string with the currency (dollars) following, i.e.,</p>\n",
    "<pre><code>price\n",
    "225 dollars\n",
    "89 dollars\n",
    "200 dollars</code></pre>\n",
    "<p></p>\n",
    "<p>We need to clean the column in order to calculate the average price.</p>"
   ]
  },
  {
   "cell_type": "code",
   "execution_count": 20,
   "id": "2e6b4c2b",
   "metadata": {},
   "outputs": [
    {
     "name": "stdout",
     "output_type": "stream",
     "text": [
      "count    25209.000000\n",
      "mean       141.777936\n",
      "std        147.349137\n",
      "min          0.000000\n",
      "25%         69.000000\n",
      "50%        105.000000\n",
      "75%        175.000000\n",
      "max       7500.000000\n",
      "Name: price, dtype: float64\n"
     ]
    }
   ],
   "source": [
    "# Remove whitespace and string characters from prices column\n",
    "prices[\"price\"] = prices[\"price\"].str.replace(\" dollars\", \"\")\n",
    "\n",
    "# Convert prices column to numeric datatype\n",
    "prices[\"price\"] = pd.to_numeric(prices[\"price\"])\n",
    "\n",
    "# Print descriptive statistics for the price column\n",
    "print(prices[\"price\"].describe())"
   ]
  },
  {
   "cell_type": "markdown",
   "id": "2b0723aa",
   "metadata": {},
   "source": [
    "## Calculating average price\n",
    "<p>The three quarters of listings cost \\$175 per night or less. </p>\n",
    "<p>However, there are some outliers including a maximum price of \\$7,500 per night! </p>\n",
    "<p>Some of listings are actually showing as free. for this let's remove these from the <code>DataFrame</code>, and calculate the average price.</p>"
   ]
  },
  {
   "cell_type": "code",
   "execution_count": 22,
   "id": "fe263f87",
   "metadata": {},
   "outputs": [
    {
     "name": "stdout",
     "output_type": "stream",
     "text": [
      "The average price per night for an Airbnb listing in NYC is $141.82.\n"
     ]
    }
   ],
   "source": [
    "# Subset prices for listings costing $0, free_listings\n",
    "free_listings = prices[\"price\"] == 0\n",
    "\n",
    "# Update prices by removing all free listings from prices\n",
    "prices = prices.loc[~free_listings]\n",
    "\n",
    "# Calculate the average price, avg_price\n",
    "avg_price = round(prices[\"price\"].mean(), 2)\n",
    "\n",
    "# Print the average price\n",
    "print(\"The average price per night for an Airbnb listing in NYC is ${}.\".format(avg_price))"
   ]
  },
  {
   "cell_type": "markdown",
   "id": "c2a4d644",
   "metadata": {},
   "source": [
    "## Comparing costs to the private rental market\n",
    "<p>After Knowing how much a listing costs, on average, per night, but it would be useful to have a benchmark for comparison. \n",
    "According to <a href=\"https://www.zumper.com/rent-research\">Zumper</a>, a 1 bedroom apartment in New York City costs, on average, $3,100 per month. \n",
    "For this converting the per night prices of our listings into monthly costs, so the comparison is feasible to the private market. </p>"
   ]
  },
  {
   "cell_type": "code",
   "execution_count": 23,
   "id": "f2344f07",
   "metadata": {},
   "outputs": [
    {
     "name": "stdout",
     "output_type": "stream",
     "text": [
      "Airbnb monthly costs are $4313.61, while in the private market you would pay $3,100.00.\n"
     ]
    }
   ],
   "source": [
    "# Add a new column to the prices DataFrame, price_per_month\n",
    "prices[\"price_per_month\"] = prices[\"price\"] * 365 / 12\n",
    "\n",
    "# Calculate average_price_per_month\n",
    "average_price_per_month = round(prices[\"price_per_month\"].mean(), 2)\n",
    "\n",
    "# Compare Airbnb and rental market\n",
    "print(\"Airbnb monthly costs are ${}, while in the private market you would pay {}.\".format(average_price_per_month, \"$3,100.00\"))"
   ]
  },
  {
   "cell_type": "markdown",
   "id": "7f3b8d30",
   "metadata": {},
   "source": [
    "## Cleaning the room type column\n",
    "<p>Unsurprisingly, using Airbnb appears to be substantially more expensive than the private rental market. We should, however, consider that these Airbnb listings include single private rooms or even rooms to share, as well as entire homes/apartments. \n",
    "<br><br>\n",
    "Let's dive deeper into the <code>room_type</code> column to find out the breakdown of listings by type of room. The <code>room_type</code> column has several variations for <code>private room</code> listings, specifically: </p>\n",
    "<ul>\n",
    "<li>\"Private room\"</li>\n",
    "<li>\"private room\"</li>\n",
    "<li>\"PRIVATE ROOM\"</li>\n",
    "</ul>\n",
    "<p>We can solve this by converting all string characters to lower case (upper case would also work just fine). </p>"
   ]
  },
  {
   "cell_type": "code",
   "execution_count": 24,
   "id": "ab46d2a2",
   "metadata": {},
   "outputs": [
    {
     "name": "stdout",
     "output_type": "stream",
     "text": [
      "entire home/apt    13266\n",
      "private room       11356\n",
      "shared room          587\n",
      "Name: room_type, dtype: int64\n"
     ]
    }
   ],
   "source": [
    "# Convert the room_type column to lowercase\n",
    "room_types[\"room_type\"] = room_types[\"room_type\"].str.lower()\n",
    "\n",
    "# Update the room_type column to category data type\n",
    "room_types[\"room_type\"] = room_types[\"room_type\"].astype(\"category\")\n",
    "\n",
    "# Create the variable room_frequencies\n",
    "room_frequencies = room_types[\"room_type\"].value_counts()\n",
    "\n",
    "# Print room_frequencies\n",
    "print(room_frequencies)"
   ]
  },
  {
   "cell_type": "markdown",
   "id": "1a6d1b09",
   "metadata": {},
   "source": [
    "## What timeframe are we working with?\n",
    "<p>It seems there is a fairly similar sized market opportunity for both private rooms (45% of listings) and entire homes/apartments (52%) on the Airbnb platform in NYC.\n",
    "<br><br></p>\n",
    "<p>Now let's turn our attention to the <code>reviews</code> DataFrame. The <code>last_review</code> column contains the date of the last review in the format of \"Month Day Year\" e.g., May 21 2019. We've been asked to find out the earliest and latest review dates in the DataFrame, and ensure the format allows this analysis to be easily conducted going forwards. </p>"
   ]
  },
  {
   "cell_type": "code",
   "execution_count": 25,
   "id": "86d1c071",
   "metadata": {},
   "outputs": [
    {
     "name": "stdout",
     "output_type": "stream",
     "text": [
      "The earliest Airbnb review is 2019-01-01, the latest review is 2019-07-09\n"
     ]
    }
   ],
   "source": [
    "# Change the data type of the last_review column to datetime\n",
    "reviews[\"last_review\"] = pd.to_datetime(reviews[\"last_review\"])\n",
    "\n",
    "# Create first_reviewed, the earliest review date\n",
    "first_reviewed = reviews[\"last_review\"].dt.date.min()\n",
    "\n",
    "# Create last_reviewed, the most recent review date\n",
    "last_reviewed = reviews[\"last_review\"].dt.date.max()\n",
    "\n",
    "# Print the oldest and newest reviews from the DataFrame\n",
    "print(\"The earliest Airbnb review is {}, the latest review is {}\".format(first_reviewed, last_reviewed))"
   ]
  },
  {
   "cell_type": "markdown",
   "id": "a407907c",
   "metadata": {},
   "source": [
    "## Joining the DataFrames.\n",
    "<p>Now we've extracted the information needed, we will merge the three DataFrames to make any future analysis easier to conduct. Once we have joined the data, we will remove any observations with missing values and check for duplicates.</p>"
   ]
  },
  {
   "cell_type": "code",
   "execution_count": 26,
   "id": "6e972bed",
   "metadata": {},
   "outputs": [
    {
     "name": "stdout",
     "output_type": "stream",
     "text": [
      "There are 0 duplicates in the DataFrame.\n"
     ]
    }
   ],
   "source": [
    "# Merge prices and room_types to create rooms_and_prices\n",
    "rooms_and_prices = prices.merge(room_types, how=\"outer\", on=\"listing_id\")\n",
    "\n",
    "# Merge rooms_and_prices with the reviews DataFrame to create airbnb_merged\n",
    "airbnb_merged = rooms_and_prices.merge(reviews, how=\"outer\", on=\"listing_id\")\n",
    "\n",
    "# Drop missing values from airbnb_merged\n",
    "airbnb_merged.dropna(inplace=True)\n",
    "\n",
    "# Check if there are any duplicate values\n",
    "print(\"There are {} duplicates in the DataFrame.\".format(airbnb_merged.duplicated().sum()))"
   ]
  },
  {
   "cell_type": "code",
   "execution_count": 11,
   "id": "11848517",
   "metadata": {},
   "outputs": [
    {
     "data": {
      "text/html": [
       "<style type=\"text/css\">\n",
       "#T_0349b_row0_col0, #T_0349b_row3_col1, #T_0349b_row3_col3 {\n",
       "  background-color: #fff7fb;\n",
       "  color: #000000;\n",
       "}\n",
       "#T_0349b_row0_col1, #T_0349b_row0_col3, #T_0349b_row4_col0 {\n",
       "  background-color: #023858;\n",
       "  color: #f1f1f1;\n",
       "}\n",
       "#T_0349b_row1_col0 {\n",
       "  background-color: #81aed2;\n",
       "  color: #f1f1f1;\n",
       "}\n",
       "#T_0349b_row1_col1, #T_0349b_row1_col3 {\n",
       "  background-color: #f5eef6;\n",
       "  color: #000000;\n",
       "}\n",
       "#T_0349b_row2_col0 {\n",
       "  background-color: #03466e;\n",
       "  color: #f1f1f1;\n",
       "}\n",
       "#T_0349b_row2_col1, #T_0349b_row2_col3 {\n",
       "  background-color: #046299;\n",
       "  color: #f1f1f1;\n",
       "}\n",
       "#T_0349b_row3_col0 {\n",
       "  background-color: #023d60;\n",
       "  color: #f1f1f1;\n",
       "}\n",
       "#T_0349b_row4_col1, #T_0349b_row4_col3 {\n",
       "  background-color: #79abd0;\n",
       "  color: #f1f1f1;\n",
       "}\n",
       "</style>\n",
       "<table id=\"T_0349b\">\n",
       "  <thead>\n",
       "    <tr>\n",
       "      <th class=\"blank level0\" >&nbsp;</th>\n",
       "      <th id=\"T_0349b_level0_col0\" class=\"col_heading level0 col0\" >listing_id</th>\n",
       "      <th id=\"T_0349b_level0_col1\" class=\"col_heading level0 col1\" >price</th>\n",
       "      <th id=\"T_0349b_level0_col2\" class=\"col_heading level0 col2\" >nbhood_full</th>\n",
       "      <th id=\"T_0349b_level0_col3\" class=\"col_heading level0 col3\" >price_per_month</th>\n",
       "      <th id=\"T_0349b_level0_col4\" class=\"col_heading level0 col4\" >description</th>\n",
       "      <th id=\"T_0349b_level0_col5\" class=\"col_heading level0 col5\" >room_type</th>\n",
       "      <th id=\"T_0349b_level0_col6\" class=\"col_heading level0 col6\" >host_name</th>\n",
       "      <th id=\"T_0349b_level0_col7\" class=\"col_heading level0 col7\" >last_review</th>\n",
       "    </tr>\n",
       "  </thead>\n",
       "  <tbody>\n",
       "    <tr>\n",
       "      <th id=\"T_0349b_level0_row0\" class=\"row_heading level0 row0\" >0</th>\n",
       "      <td id=\"T_0349b_row0_col0\" class=\"data row0 col0\" >2595</td>\n",
       "      <td id=\"T_0349b_row0_col1\" class=\"data row0 col1\" >225.000000</td>\n",
       "      <td id=\"T_0349b_row0_col2\" class=\"data row0 col2\" >Manhattan, Midtown</td>\n",
       "      <td id=\"T_0349b_row0_col3\" class=\"data row0 col3\" >6843.750000</td>\n",
       "      <td id=\"T_0349b_row0_col4\" class=\"data row0 col4\" >Skylit Midtown Castle</td>\n",
       "      <td id=\"T_0349b_row0_col5\" class=\"data row0 col5\" >entire home/apt</td>\n",
       "      <td id=\"T_0349b_row0_col6\" class=\"data row0 col6\" >Jennifer</td>\n",
       "      <td id=\"T_0349b_row0_col7\" class=\"data row0 col7\" >2019-05-21 00:00:00</td>\n",
       "    </tr>\n",
       "    <tr>\n",
       "      <th id=\"T_0349b_level0_row1\" class=\"row_heading level0 row1\" >1</th>\n",
       "      <td id=\"T_0349b_row1_col0\" class=\"data row1 col0\" >3831</td>\n",
       "      <td id=\"T_0349b_row1_col1\" class=\"data row1 col1\" >89.000000</td>\n",
       "      <td id=\"T_0349b_row1_col2\" class=\"data row1 col2\" >Brooklyn, Clinton Hill</td>\n",
       "      <td id=\"T_0349b_row1_col3\" class=\"data row1 col3\" >2707.083333</td>\n",
       "      <td id=\"T_0349b_row1_col4\" class=\"data row1 col4\" >Cozy Entire Floor of Brownstone</td>\n",
       "      <td id=\"T_0349b_row1_col5\" class=\"data row1 col5\" >entire home/apt</td>\n",
       "      <td id=\"T_0349b_row1_col6\" class=\"data row1 col6\" >LisaRoxanne</td>\n",
       "      <td id=\"T_0349b_row1_col7\" class=\"data row1 col7\" >2019-07-05 00:00:00</td>\n",
       "    </tr>\n",
       "    <tr>\n",
       "      <th id=\"T_0349b_level0_row2\" class=\"row_heading level0 row2\" >2</th>\n",
       "      <td id=\"T_0349b_row2_col0\" class=\"data row2 col0\" >5099</td>\n",
       "      <td id=\"T_0349b_row2_col1\" class=\"data row2 col1\" >200.000000</td>\n",
       "      <td id=\"T_0349b_row2_col2\" class=\"data row2 col2\" >Manhattan, Murray Hill</td>\n",
       "      <td id=\"T_0349b_row2_col3\" class=\"data row2 col3\" >6083.333333</td>\n",
       "      <td id=\"T_0349b_row2_col4\" class=\"data row2 col4\" >Large Cozy 1 BR Apartment In Midtown East</td>\n",
       "      <td id=\"T_0349b_row2_col5\" class=\"data row2 col5\" >entire home/apt</td>\n",
       "      <td id=\"T_0349b_row2_col6\" class=\"data row2 col6\" >Chris</td>\n",
       "      <td id=\"T_0349b_row2_col7\" class=\"data row2 col7\" >2019-06-22 00:00:00</td>\n",
       "    </tr>\n",
       "    <tr>\n",
       "      <th id=\"T_0349b_level0_row3\" class=\"row_heading level0 row3\" >3</th>\n",
       "      <td id=\"T_0349b_row3_col0\" class=\"data row3 col0\" >5178</td>\n",
       "      <td id=\"T_0349b_row3_col1\" class=\"data row3 col1\" >79.000000</td>\n",
       "      <td id=\"T_0349b_row3_col2\" class=\"data row3 col2\" >Manhattan, Hell's Kitchen</td>\n",
       "      <td id=\"T_0349b_row3_col3\" class=\"data row3 col3\" >2402.916667</td>\n",
       "      <td id=\"T_0349b_row3_col4\" class=\"data row3 col4\" >Large Furnished Room Near B'way</td>\n",
       "      <td id=\"T_0349b_row3_col5\" class=\"data row3 col5\" >private room</td>\n",
       "      <td id=\"T_0349b_row3_col6\" class=\"data row3 col6\" >Shunichi</td>\n",
       "      <td id=\"T_0349b_row3_col7\" class=\"data row3 col7\" >2019-06-24 00:00:00</td>\n",
       "    </tr>\n",
       "    <tr>\n",
       "      <th id=\"T_0349b_level0_row4\" class=\"row_heading level0 row4\" >4</th>\n",
       "      <td id=\"T_0349b_row4_col0\" class=\"data row4 col0\" >5238</td>\n",
       "      <td id=\"T_0349b_row4_col1\" class=\"data row4 col1\" >150.000000</td>\n",
       "      <td id=\"T_0349b_row4_col2\" class=\"data row4 col2\" >Manhattan, Chinatown</td>\n",
       "      <td id=\"T_0349b_row4_col3\" class=\"data row4 col3\" >4562.500000</td>\n",
       "      <td id=\"T_0349b_row4_col4\" class=\"data row4 col4\" >Cute & Cozy Lower East Side 1 bdrm</td>\n",
       "      <td id=\"T_0349b_row4_col5\" class=\"data row4 col5\" >entire home/apt</td>\n",
       "      <td id=\"T_0349b_row4_col6\" class=\"data row4 col6\" >Ben</td>\n",
       "      <td id=\"T_0349b_row4_col7\" class=\"data row4 col7\" >2019-06-09 00:00:00</td>\n",
       "    </tr>\n",
       "  </tbody>\n",
       "</table>\n"
      ],
      "text/plain": [
       "<pandas.io.formats.style.Styler at 0x1c8eebf6a90>"
      ]
     },
     "execution_count": 11,
     "metadata": {},
     "output_type": "execute_result"
    }
   ],
   "source": [
    "airbnb_merged.head().style.background_gradient()"
   ]
  },
  {
   "cell_type": "markdown",
   "id": "b06fa61d",
   "metadata": {},
   "source": [
    "## Analyzing listing prices by NYC borough\n",
    "<p>Now we have combined all data into a single DataFrame, we will turn our attention to understanding the difference in listing prices between <a href=\"https://en.wikipedia.org/wiki/Boroughs_of_New_York_City\">New York City boroughs</a>. \n",
    "We can currently see boroughs listed as the first part of a string within the <code>nbhood_full</code> column, e.g., </p>\n",
    "<pre><code>Manhattan, Midtown\n",
    "Brooklyn, Clinton Hill\n",
    "Manhattan, Murray Hill\n",
    "Manhattan, Hell's Kitchen\n",
    "Manhattan, Chinatown</code></pre>\n",
    "<p></p>\n",
    "<p>We will therefore need to extract this information from the string and store in a new column, <code>borough</code>, for analysis.</p>"
   ]
  },
  {
   "cell_type": "code",
   "execution_count": 12,
   "id": "b6945508",
   "metadata": {},
   "outputs": [
    {
     "name": "stdout",
     "output_type": "stream",
     "text": [
      "                     sum    mean  median  count\n",
      "borough                                        \n",
      "Manhattan      1898417.0  184.04   149.0  10315\n",
      "Brooklyn       1275250.0  122.02    95.0  10451\n",
      "Queens          320715.0   92.83    70.0   3455\n",
      "Staten Island    22974.0   86.04    71.0    267\n",
      "Bronx            55156.0   79.25    65.0    696\n"
     ]
    }
   ],
   "source": [
    "# Extract information from the nbhood_full column and store as a new column, borough\n",
    "airbnb_merged[\"borough\"] = airbnb_merged[\"nbhood_full\"].str.partition(\",\")[0]\n",
    "\n",
    "# Group by borough and calculate summary statistics\n",
    "boroughs = airbnb_merged.groupby(\"borough\")[\"price\"].agg([\"sum\", \"mean\", \"median\", \"count\"])\n",
    "\n",
    "# Round boroughs to 2 decimal places, and sort by mean in descending order\n",
    "boroughs = boroughs.round(2).sort_values(\"mean\", ascending=False)\n",
    "\n",
    "# Print boroughs\n",
    "print(boroughs)"
   ]
  },
  {
   "cell_type": "markdown",
   "id": "4616d13c",
   "metadata": {},
   "source": [
    "## Price range by borough\n",
    "<p>The above output gives us a summary of prices for listings across the 5 boroughs. In this final task we would like to categorize listings based on whether they fall into specific price ranges, and view this by borough. \n",
    "<br><br>\n",
    "We can do this using percentiles and labels to create a new column, <code>price_range</code>, in the DataFrame.\n",
    "Once we have created the labels, we can then group the data and count frequencies for listings in each price range by borough.\n",
    "<br><br>\n",
    "We will assign the following categories and price ranges:</p>\n",
    "<table>\n",
    "<thead>\n",
    "<tr>\n",
    "<th>label</th>\n",
    "<th>price</th>\n",
    "</tr>\n",
    "</thead>\n",
    "<tbody>\n",
    "<tr>\n",
    "<td><code>Budget</code></td>\n",
    "<td>\\$0-69</td>\n",
    "</tr>\n",
    "<tr>\n",
    "<td><code>Average</code></td>\n",
    "<td>\\$70-175</td>\n",
    "</tr>\n",
    "<tr>\n",
    "<td><code>Expensive</code></td>\n",
    "<td>\\$176-350</td>\n",
    "</tr>\n",
    "<tr>\n",
    "<td><code>Extravagant</code></td>\n",
    "<td>&gt; \\$350</td>\n",
    "</tr>\n",
    "</tbody>\n",
    "</table>"
   ]
  },
  {
   "cell_type": "code",
   "execution_count": 13,
   "id": "16c2462d",
   "metadata": {},
   "outputs": [
    {
     "name": "stdout",
     "output_type": "stream",
     "text": [
      "borough        price_range\n",
      "Bronx          Budget          381\n",
      "               Average         285\n",
      "               Expensive        25\n",
      "               Extravagant       5\n",
      "Brooklyn       Budget         3194\n",
      "               Average        5532\n",
      "               Expensive      1466\n",
      "               Extravagant     259\n",
      "Manhattan      Budget         1148\n",
      "               Average        5285\n",
      "               Expensive      3072\n",
      "               Extravagant     810\n",
      "Queens         Budget         1631\n",
      "               Average        1505\n",
      "               Expensive       291\n",
      "               Extravagant      28\n",
      "Staten Island  Budget          124\n",
      "               Average         123\n",
      "               Expensive        20\n",
      "               Extravagant       0\n",
      "Name: price_range, dtype: int64\n"
     ]
    }
   ],
   "source": [
    "# Create labels for the price range, label_names\n",
    "label_names = [\"Budget\", \"Average\", \"Expensive\", \"Extravagant\"]\n",
    "\n",
    "# Create the label ranges, ranges\n",
    "ranges = [0, 69, 175, 350, np.inf]\n",
    "\n",
    "# Insert new column, price_range, into DataFrame\n",
    "airbnb_merged[\"price_range\"] = pd.cut(airbnb_merged[\"price\"], bins=ranges, labels=label_names)\n",
    "\n",
    "# Calculate occurence frequencies for each label, prices_by_borough\n",
    "prices_by_borough = airbnb_merged.groupby([\"borough\", \"price_range\"])[\"price_range\"].count()\n",
    "print(prices_by_borough)"
   ]
  }
 ],
 "metadata": {
  "kernelspec": {
   "display_name": "Python 3 (ipykernel)",
   "language": "python",
   "name": "python3"
  },
  "language_info": {
   "codemirror_mode": {
    "name": "ipython",
    "version": 3
   },
   "file_extension": ".py",
   "mimetype": "text/x-python",
   "name": "python",
   "nbconvert_exporter": "python",
   "pygments_lexer": "ipython3",
   "version": "3.9.13"
  },
  "toc": {
   "base_numbering": 1,
   "nav_menu": {},
   "number_sections": true,
   "sideBar": true,
   "skip_h1_title": false,
   "title_cell": "Table of Contents",
   "title_sidebar": "Contents",
   "toc_cell": false,
   "toc_position": {},
   "toc_section_display": true,
   "toc_window_display": false
  }
 },
 "nbformat": 4,
 "nbformat_minor": 5
}
